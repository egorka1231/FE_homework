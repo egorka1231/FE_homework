{
 "cells": [
  {
   "cell_type": "markdown",
   "metadata": {},
   "source": [
    "Взять boston house-prices datase (sklearn.datasets.load_boston) и сделать тоже самое, что делали на лекции, для задачи регрессии (попробовать разные алгоритмы, поподбирать параметры, вывести итоговое качество)"
   ]
  },
  {
   "cell_type": "code",
   "execution_count": 1,
   "metadata": {},
   "outputs": [],
   "source": [
    "from sklearn.datasets import load_boston"
   ]
  },
  {
   "cell_type": "code",
   "execution_count": 2,
   "metadata": {},
   "outputs": [],
   "source": [
    "data = load_boston()"
   ]
  },
  {
   "cell_type": "code",
   "execution_count": 3,
   "metadata": {},
   "outputs": [],
   "source": [
    "from sklearn.preprocessing import StandardScaler"
   ]
  },
  {
   "cell_type": "code",
   "execution_count": 4,
   "metadata": {},
   "outputs": [
    {
     "data": {
      "text/plain": [
       "((506, 13), (506,))"
      ]
     },
     "execution_count": 4,
     "metadata": {},
     "output_type": "execute_result"
    }
   ],
   "source": [
    "scaler = StandardScaler()\n",
    "X = scaler.fit_transform(data.data)\n",
    "y = data.target\n",
    "X.shape, y.shape"
   ]
  },
  {
   "cell_type": "code",
   "execution_count": 5,
   "metadata": {},
   "outputs": [],
   "source": [
    "import random"
   ]
  },
  {
   "cell_type": "code",
   "execution_count": 6,
   "metadata": {},
   "outputs": [],
   "source": [
    "random.seed(42)"
   ]
  },
  {
   "cell_type": "code",
   "execution_count": 7,
   "metadata": {},
   "outputs": [],
   "source": [
    "from sklearn.model_selection import train_test_split"
   ]
  },
  {
   "cell_type": "code",
   "execution_count": 8,
   "metadata": {},
   "outputs": [],
   "source": [
    "X_train, X_test, y_train, y_test = train_test_split(X, y, test_size = 0.2)"
   ]
  },
  {
   "cell_type": "code",
   "execution_count": 9,
   "metadata": {},
   "outputs": [
    {
     "data": {
      "text/plain": [
       "((404, 13), (404,))"
      ]
     },
     "execution_count": 9,
     "metadata": {},
     "output_type": "execute_result"
    }
   ],
   "source": [
    "X_train.shape, y_train.shape"
   ]
  },
  {
   "cell_type": "code",
   "execution_count": 10,
   "metadata": {},
   "outputs": [],
   "source": [
    "from sklearn.linear_model import ElasticNet, SGDRegressor\n",
    "from sklearn.svm import LinearSVR\n",
    "from sklearn.neighbors import KNeighborsRegressor\n",
    "from sklearn.tree import DecisionTreeRegressor\n",
    "from sklearn.ensemble import AdaBoostRegressor, BaggingRegressor"
   ]
  },
  {
   "cell_type": "code",
   "execution_count": 11,
   "metadata": {},
   "outputs": [],
   "source": [
    "models = [\n",
    "    (ElasticNet(), dict(\n",
    "        alpha=[0.2, 0.5, 1.0, 5.0],\n",
    "        l1_ratio=[0., 0.2, 0.5, 0.8, 1.],\n",
    "        max_iter=[100, 500, 1000]\n",
    "    )),\n",
    "    (SGDRegressor(max_iter=10000), dict(\n",
    "        loss=[\"squared_loss\", 'huber', 'epsilon_insensitive', 'squared_epsilon_insensitive'],\n",
    "        penalty=['none', 'l2', 'l1', 'elasticnet'],\n",
    "        alpha=[0.00001, 0.0001, 0.001, 0.01, 0.1],\n",
    "        eta0=[0.01, 0.1]\n",
    "    )),\n",
    "    (LinearSVR(max_iter=10000), dict(\n",
    "        C=[0.5, 1.0, 2.0],\n",
    "        loss=['epsilon_insensitive', 'squared_epsilon_insensitive']\n",
    "    )),\n",
    "    (KNeighborsRegressor(), dict(\n",
    "        n_neighbors=[5,10],\n",
    "        weights=['uniform', 'distance'],\n",
    "        algorithm=['ball_tree', 'kd_tree', 'brute'],\n",
    "        p=[1,2]\n",
    "    )),\n",
    "    (DecisionTreeRegressor(), dict(\n",
    "        criterion=['mse', 'friedman_mse'],\n",
    "        splitter = ['best', 'random'],\n",
    "        max_depth = [None, 100, 500, 1000],\n",
    "        min_samples_split = [2, 4, 8],\n",
    "        min_samples_leaf = [1, 2, 3]\n",
    "    )),\n",
    "    (AdaBoostRegressor(), dict(\n",
    "        n_estimators=[50, 100, 200, 500],\n",
    "        learning_rate=[1.0, 5.0, 10.],\n",
    "        loss=['linear', 'square', 'exponential']\n",
    "    )),\n",
    "    (BaggingRegressor(), dict(\n",
    "        n_estimators=[50, 100, 200, 500],\n",
    "        bootstrap=[False, True]\n",
    "    )),\n",
    "]"
   ]
  },
  {
   "cell_type": "code",
   "execution_count": 12,
   "metadata": {},
   "outputs": [],
   "source": [
    "from sklearn.model_selection import GridSearchCV\n",
    "from sklearn.metrics import r2_score, mean_squared_error\n",
    "from warnings import filterwarnings \n",
    "filterwarnings('ignore')"
   ]
  },
  {
   "cell_type": "code",
   "execution_count": 16,
   "metadata": {},
   "outputs": [
    {
     "name": "stdout",
     "output_type": "stream",
     "text": [
      "CPU times: user 5.71 s, sys: 168 ms, total: 5.88 s\n",
      "Wall time: 1min 19s\n"
     ]
    }
   ],
   "source": [
    "%%time\n",
    "\n",
    "results = []\n",
    "for estimator, params in models:\n",
    "    gs = GridSearchCV(estimator, params, cv=5, scoring='r2', n_jobs=-1)\n",
    "    gs.fit(X_train, y_train)\n",
    "    y_pred = gs.predict(X_test)\n",
    "    r2, mse = r2_score(y_test, y_pred), mean_squared_error(y_test, y_pred)\n",
    "    results.append((estimator.__class__.__name__, gs.best_params_, r2, mse))"
   ]
  },
  {
   "cell_type": "code",
   "execution_count": 17,
   "metadata": {},
   "outputs": [],
   "source": [
    "import pandas as pd"
   ]
  },
  {
   "cell_type": "code",
   "execution_count": 21,
   "metadata": {},
   "outputs": [
    {
     "data": {
      "text/html": [
       "<div>\n",
       "<style scoped>\n",
       "    .dataframe tbody tr th:only-of-type {\n",
       "        vertical-align: middle;\n",
       "    }\n",
       "\n",
       "    .dataframe tbody tr th {\n",
       "        vertical-align: top;\n",
       "    }\n",
       "\n",
       "    .dataframe thead th {\n",
       "        text-align: right;\n",
       "    }\n",
       "</style>\n",
       "<table border=\"1\" class=\"dataframe\">\n",
       "  <thead>\n",
       "    <tr style=\"text-align: right;\">\n",
       "      <th></th>\n",
       "      <th>Estimator</th>\n",
       "      <th>Best params</th>\n",
       "      <th>R2</th>\n",
       "      <th>MSE</th>\n",
       "    </tr>\n",
       "  </thead>\n",
       "  <tbody>\n",
       "    <tr>\n",
       "      <th>0</th>\n",
       "      <td>ElasticNet</td>\n",
       "      <td>{'alpha': 0.2, 'l1_ratio': 0.0, 'max_iter': 500}</td>\n",
       "      <td>0.668680</td>\n",
       "      <td>33.850300</td>\n",
       "    </tr>\n",
       "    <tr>\n",
       "      <th>1</th>\n",
       "      <td>SGDRegressor</td>\n",
       "      <td>{'alpha': 0.0001, 'eta0': 0.01, 'loss': 'squar...</td>\n",
       "      <td>0.696337</td>\n",
       "      <td>31.024697</td>\n",
       "    </tr>\n",
       "    <tr>\n",
       "      <th>2</th>\n",
       "      <td>LinearSVR</td>\n",
       "      <td>{'C': 2.0, 'loss': 'squared_epsilon_insensitive'}</td>\n",
       "      <td>0.697757</td>\n",
       "      <td>30.879608</td>\n",
       "    </tr>\n",
       "    <tr>\n",
       "      <th>3</th>\n",
       "      <td>KNeighborsRegressor</td>\n",
       "      <td>{'algorithm': 'ball_tree', 'n_neighbors': 5, '...</td>\n",
       "      <td>0.719132</td>\n",
       "      <td>28.695761</td>\n",
       "    </tr>\n",
       "    <tr>\n",
       "      <th>4</th>\n",
       "      <td>DecisionTreeRegressor</td>\n",
       "      <td>{'criterion': 'friedman_mse', 'max_depth': 100...</td>\n",
       "      <td>0.743309</td>\n",
       "      <td>26.225587</td>\n",
       "    </tr>\n",
       "    <tr>\n",
       "      <th>5</th>\n",
       "      <td>AdaBoostRegressor</td>\n",
       "      <td>{'learning_rate': 1.0, 'loss': 'exponential', ...</td>\n",
       "      <td>0.738378</td>\n",
       "      <td>26.729422</td>\n",
       "    </tr>\n",
       "    <tr>\n",
       "      <th>6</th>\n",
       "      <td>BaggingRegressor</td>\n",
       "      <td>{'bootstrap': True, 'n_estimators': 200}</td>\n",
       "      <td>0.799910</td>\n",
       "      <td>20.442847</td>\n",
       "    </tr>\n",
       "  </tbody>\n",
       "</table>\n",
       "</div>"
      ],
      "text/plain": [
       "               Estimator                                        Best params  \\\n",
       "0             ElasticNet   {'alpha': 0.2, 'l1_ratio': 0.0, 'max_iter': 500}   \n",
       "1           SGDRegressor  {'alpha': 0.0001, 'eta0': 0.01, 'loss': 'squar...   \n",
       "2              LinearSVR  {'C': 2.0, 'loss': 'squared_epsilon_insensitive'}   \n",
       "3    KNeighborsRegressor  {'algorithm': 'ball_tree', 'n_neighbors': 5, '...   \n",
       "4  DecisionTreeRegressor  {'criterion': 'friedman_mse', 'max_depth': 100...   \n",
       "5      AdaBoostRegressor  {'learning_rate': 1.0, 'loss': 'exponential', ...   \n",
       "6       BaggingRegressor           {'bootstrap': True, 'n_estimators': 200}   \n",
       "\n",
       "         R2        MSE  \n",
       "0  0.668680  33.850300  \n",
       "1  0.696337  31.024697  \n",
       "2  0.697757  30.879608  \n",
       "3  0.719132  28.695761  \n",
       "4  0.743309  26.225587  \n",
       "5  0.738378  26.729422  \n",
       "6  0.799910  20.442847  "
      ]
     },
     "execution_count": 21,
     "metadata": {},
     "output_type": "execute_result"
    }
   ],
   "source": [
    "result = pd.DataFrame(results, columns=['Estimator', 'Best params', 'R2', 'MSE'])\n",
    "result"
   ]
  },
  {
   "cell_type": "code",
   "execution_count": 33,
   "metadata": {},
   "outputs": [],
   "source": [
    "import matplotlib.pyplot as plt\n",
    "%matplotlib inline"
   ]
  },
  {
   "cell_type": "code",
   "execution_count": 36,
   "metadata": {},
   "outputs": [
    {
     "data": {
      "text/plain": [
       "(array([-1.,  0.,  1.,  2.,  3.,  4.,  5.,  6.,  7.]),\n",
       " <a list of 9 Text xticklabel objects>)"
      ]
     },
     "execution_count": 36,
     "metadata": {},
     "output_type": "execute_result"
    },
    {
     "data": {
      "image/png": "[encoded data removed]",
      "text/plain": [
       "<Figure size 432x288 with 1 Axes>"
      ]
     },
     "metadata": {
      "needs_background": "light"
     },
     "output_type": "display_data"
    }
   ],
   "source": [
    "result.plot(x='Estimator', y='R2')\n",
    "plt.xticks(rotation=70)"
   ]
  },
  {
   "cell_type": "code",
   "execution_count": null,
   "metadata": {},
   "outputs": [],
   "source": []
  }
 ],
 "metadata": {
  "kernelspec": {
   "display_name": "Python 3",
   "language": "python",
   "name": "python3"
  },
  "language_info": {
   "codemirror_mode": {
    "name": "ipython",
    "version": 3
   },
   "file_extension": ".py",
   "mimetype": "text/x-python",
   "name": "python",
   "nbconvert_exporter": "python",
   "pygments_lexer": "ipython3",
   "version": "3.7.7"
  }
 },
 "nbformat": 4,
 "nbformat_minor": 4
}
